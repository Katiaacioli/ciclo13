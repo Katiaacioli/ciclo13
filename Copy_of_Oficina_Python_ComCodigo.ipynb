{
  "nbformat": 4,
  "nbformat_minor": 0,
  "metadata": {
    "colab": {
      "provenance": [],
      "gpuType": "T4",
      "include_colab_link": true
    },
    "kernelspec": {
      "name": "python3",
      "display_name": "Python 3"
    },
    "language_info": {
      "name": "python"
    }
  },
  "cells": [
    {
      "cell_type": "markdown",
      "metadata": {
        "id": "view-in-github",
        "colab_type": "text"
      },
      "source": [
        "<a href=\"https://colab.research.google.com/github/Katiaacioli/ciclo13/blob/main/Copy_of_Oficina_Python_ComCodigo.ipynb\" target=\"_parent\"><img src=\"https://colab.research.google.com/assets/colab-badge.svg\" alt=\"Open In Colab\"/></a>"
      ]
    },
    {
      "cell_type": "markdown",
      "source": [
        "#Bem Vindas - E esse tal de pyhton?(Fazer o projeto em conjunto)\n",
        "\n",
        "Hoje vamos praticar alguns conceitos de python, iremos pegar revisão bem rápida de python básico e depois vamos parti para uma parte mais intermediário, certo?\n",
        "\n",
        "\n",
        "**Aula com a professora:** Nicole Pessoa<br>\n",
        "**Monitora:** Amanda Silva"
      ],
      "metadata": {
        "id": "uAsOMDVdui10"
      }
    },
    {
      "cell_type": "markdown",
      "source": [
        "## 1. Variáveis e Operadores\n",
        "\n",
        "O que são variáveis?\n",
        "\n",
        "São **\"caixinhas\"** que armazenam dados na memória. Em Python, não precisamos declarar o tipo (ela é dinâmica)."
      ],
      "metadata": {
        "id": "Wv109IBZvt8Q"
      }
    },
    {
      "cell_type": "code",
      "execution_count": null,
      "metadata": {
        "id": "qhHYVlwqugWn"
      },
      "outputs": [],
      "source": [
        "name = \"Nicole\" #String (Texto)\n",
        "idade = 28     #Int (Números Inteiros)\n",
        "altura = 1.55   #Float (Decimal)\n",
        "estudante = True #booleano (True/False)"
      ]
    },
    {
      "cell_type": "markdown",
      "source": [
        "## Operadores Básicos\n",
        "\n",
        "    Aritméticos: +, -, *, /, // (divisão inteira), % (resto), ** (potência).\n",
        "\n",
        "    Comparação: ==, !=, >, <, >=, <=.\n",
        "\n",
        "    Lógicos: and, or, not."
      ],
      "metadata": {
        "id": "uZG-LeEXwMRs"
      }
    },
    {
      "cell_type": "code",
      "source": [
        "nota1 = 6.7\n",
        "nota2 = 8.7\n",
        "print(nota1 // nota2) # operador de divisão inteira. Ele retorna o maior número inteiro que é menor ou igual ao resultado da divisão (ou seja, \"corta\" as casas decimais).\n",
        "print(nota1 > nota2)\n",
        "print(nota2 != nota1)"
      ],
      "metadata": {
        "id": "PSlq8cA2wIzy",
        "colab": {
          "base_uri": "https://localhost:8080/"
        },
        "outputId": "75646c23-f48e-485a-8cff-50ec8225cf58"
      },
      "execution_count": null,
      "outputs": [
        {
          "output_type": "stream",
          "name": "stdout",
          "text": [
            "0.0\n",
            "False\n",
            "True\n"
          ]
        }
      ]
    },
    {
      "cell_type": "code",
      "source": [
        "#Vamos usar comparação para ver como pode ser usado como exemplo\n",
        "if nota1 >= 8:\n",
        "  print(\"Aprovado\")\n",
        "else:\n",
        "  print(\"Reprovado\")"
      ],
      "metadata": {
        "id": "lI6riVNf6c14",
        "colab": {
          "base_uri": "https://localhost:8080/"
        },
        "outputId": "b8a946dc-ce8f-4c38-e9e6-351fd38528f1"
      },
      "execution_count": null,
      "outputs": [
        {
          "output_type": "stream",
          "name": "stdout",
          "text": [
            "Reprovado\n"
          ]
        }
      ]
    },
    {
      "cell_type": "markdown",
      "source": [
        "## 2. Estruturas de Dados\n",
        "\n",
        "Listas (list)\n",
        "\n",
        "    Ordenadas, mutáveis e permitem itens duplicados."
      ],
      "metadata": {
        "id": "or5Due4Ywev_"
      }
    },
    {
      "cell_type": "markdown",
      "source": [
        "Listas são estruturas de dados mutáveis e ordenadas em Python, usadas para armazenar coleções de itens (que podem ser de tipos diferentes). Elas são uma das estruturas mais versáteis e comumente usadas na linguagem.\n",
        "<br>\n",
        "<br>\n",
        "\n",
        "Características Principais:\n",
        "\n",
        "  **Mutáveis:** Podem ser modificadas após a criação (adicionar, remover ou alterar elementos).\n",
        "\n",
        "  **Ordenadas:** Os elementos têm uma ordem fixa (indexados por posição, começando em 0).\n",
        "\n",
        "  **Aceitam diferentes tipos de dados:** Podem armazenar inteiros, strings, floats, outras listas, etc.\n",
        "\n",
        "  **Permitem elementos duplicados:** Listas podem ter valores repetidos."
      ],
      "metadata": {
        "id": "EkbrJvUo4Cie"
      }
    },
    {
      "cell_type": "code",
      "source": [
        "frutas = [\"banana\",\"pessego\",\"pera\",\"melancia\"]"
      ],
      "metadata": {
        "id": "vDRburwF8eYW"
      },
      "execution_count": null,
      "outputs": []
    },
    {
      "cell_type": "code",
      "source": [
        "frutas = [\"banana\",\"pessego\",\"pera\",\"melancia\"]"
      ],
      "metadata": {
        "id": "WBG0GT2f8fh-"
      },
      "execution_count": null,
      "outputs": []
    },
    {
      "cell_type": "code",
      "source": [
        "frutas.append(\"abacaxi\")  # Adiciona no final\n",
        "frutas[2] = \"morango\"      # Altera um item\n",
        "print(frutas[0])           # Acessa o primeiro item"
      ],
      "metadata": {
        "colab": {
          "base_uri": "https://localhost:8080/"
        },
        "id": "z62LZhT-8405",
        "outputId": "da30f5fe-7a84-42a8-e803-89c81b9dde86"
      },
      "execution_count": null,
      "outputs": [
        {
          "output_type": "stream",
          "name": "stdout",
          "text": [
            "banana\n"
          ]
        }
      ]
    },
    {
      "cell_type": "code",
      "source": [
        "print(frutas)"
      ],
      "metadata": {
        "colab": {
          "base_uri": "https://localhost:8080/"
        },
        "id": "e-Nlj0KZMcOB",
        "outputId": "77a8dce6-5490-44f0-ae13-b6a26942e384"
      },
      "execution_count": null,
      "outputs": [
        {
          "output_type": "stream",
          "name": "stdout",
          "text": [
            "['banana', 'pessego', 'pera', 'melancia']\n"
          ]
        }
      ]
    },
    {
      "cell_type": "markdown",
      "source": [
        "Tuplas (tuple)\n",
        "\n",
        "    Ordenadas, imutáveis e permitem itens duplicados."
      ],
      "metadata": {
        "id": "93l4-wMrwx64"
      }
    },
    {
      "cell_type": "markdown",
      "source": [
        "Tuplas (tuples) são estruturas de dados imutáveis e ordenadas em Python, semelhantes a listas, mas com a diferença crucial de que não podem ser modificadas após a criação. Elas são usadas para armazenar coleções de itens, geralmente heterogêneos (dados de tipos diferentes).\n",
        "\n",
        "Características Principais\n",
        "\n",
        "  **Imutáveis:** Não podem ser alteradas após a criação (não é possível adicionar, remover ou modificar elementos).\n",
        "\n",
        "  **Ordenadas:** Os elementos têm uma ordem fixa (indexados por posição, começando em 0).\n",
        "\n",
        "  **Aceitam diferentes tipos de dados:** Podem armazenar inteiros, strings, floats, listas e até outras tuplas.\n",
        "\n",
        "  **Podem ser duplicadas:** Permitem elementos repetidos."
      ],
      "metadata": {
        "id": "G8DAHAZi3fem"
      }
    },
    {
      "cell_type": "markdown",
      "source": [
        "As tuplas são definidas usando parênteses ( ), mas os parênteses são opcionais se há pelo menos uma vírgula."
      ],
      "metadata": {
        "id": "7Ng3Zg063yAt"
      }
    },
    {
      "cell_type": "code",
      "source": [
        "#Exemplo 1: Tupla SimplesExemplo 1: Tupla Simples\n",
        "coordenadas = (10, 20)\n"
      ],
      "metadata": {
        "id": "IkhpXiBtwxeM"
      },
      "execution_count": null,
      "outputs": []
    },
    {
      "cell_type": "code",
      "source": [
        "#Exemplo 2: Tupla com Um Elemento\n",
        "tupla_unica = (42,) #Tupla com um único elemento precisa de vírgula\n",
        "nao_e_tupla = (42) #Isso é um número inteiro, não é uma tupla"
      ],
      "metadata": {
        "id": "lOCp97fAxrUh"
      },
      "execution_count": null,
      "outputs": []
    },
    {
      "cell_type": "markdown",
      "source": [
        "Dicionários (dict)\n",
        "\n",
        "    Pares chave-valor, não ordenados, mutáveis."
      ],
      "metadata": {
        "id": "uuWwPjQZyJ4Q"
      }
    },
    {
      "cell_type": "code",
      "source": [
        "pessoa = {\"nome\":\"Nicole\",\"idade\":30}\n",
        "print(pessoa[\"nome\"])"
      ],
      "metadata": {
        "colab": {
          "base_uri": "https://localhost:8080/"
        },
        "id": "KfkdLScsyEJu",
        "outputId": "ed668b69-eadb-44d1-c7cb-3441a9d48e49"
      },
      "execution_count": null,
      "outputs": [
        {
          "output_type": "stream",
          "name": "stdout",
          "text": [
            "Nicole\n"
          ]
        }
      ]
    },
    {
      "cell_type": "markdown",
      "source": [
        "## 3. Loops e Condicionais\n",
        "\n",
        "```\n",
        "# Condicionais (if, elif, else)\n",
        "```\n",
        "\n",
        "\n",
        "Executa blocos de código conforme condições."
      ],
      "metadata": {
        "id": "e0fM62j4yZCL"
      }
    },
    {
      "cell_type": "code",
      "source": [
        "idade = 18\n",
        "if idade >= 18:\n",
        "  print(\"Habilitado\")\n",
        "\n",
        "elif idade <= 16:\n",
        "  print(\"Provisória\")\n",
        "\n",
        "else:\n",
        "  print(\"Não habilitado\")"
      ],
      "metadata": {
        "colab": {
          "base_uri": "https://localhost:8080/"
        },
        "id": "1bvgGxNSyj4d",
        "outputId": "b8f46c5b-475b-4724-b758-c16ba49e4f5b"
      },
      "execution_count": null,
      "outputs": [
        {
          "output_type": "stream",
          "name": "stdout",
          "text": [
            "Habilitado\n"
          ]
        }
      ]
    },
    {
      "cell_type": "markdown",
      "source": [
        "\n",
        "Loops (for e while)\n"
      ],
      "metadata": {
        "id": "6bYRbdpEywlz"
      }
    },
    {
      "cell_type": "code",
      "source": [
        "#for (itera sobre sequências)\n",
        "numeros = [1,2,3]\n",
        "for t in numeros:\n",
        "    print(t)"
      ],
      "metadata": {
        "id": "KH7Dnu8fzUng",
        "colab": {
          "base_uri": "https://localhost:8080/"
        },
        "outputId": "97786279-5721-4770-986f-ee43585244ca"
      },
      "execution_count": null,
      "outputs": [
        {
          "output_type": "stream",
          "name": "stdout",
          "text": [
            "1\n",
            "2\n",
            "3\n"
          ]
        }
      ]
    },
    {
      "cell_type": "code",
      "source": [
        "#while (executa enquanto condição for verdadeira)\n",
        "contador =  0\n",
        "while contador < 3 :\n",
        "    print(contador)\n",
        "    contador += 1"
      ],
      "metadata": {
        "id": "qypT8h4_ztkl",
        "colab": {
          "base_uri": "https://localhost:8080/"
        },
        "outputId": "0a72efc3-114d-4ae8-cec2-858ad3fc97b6"
      },
      "execution_count": null,
      "outputs": [
        {
          "output_type": "stream",
          "name": "stdout",
          "text": [
            "0\n",
            "1\n",
            "2\n"
          ]
        }
      ]
    },
    {
      "cell_type": "markdown",
      "source": [
        "O while é uma estrutura de repetição (loop) em Python que executa um bloco de código enquanto uma condição for verdadeira. Ele é útil quando você não sabe quantas vezes o loop precisa repetir, mas tem uma condição de parada definida.<br>\n",
        "<br>\n",
        "while condição:\n",
        "    # Bloco de código que repete\n",
        "    # enquanto a condição for True"
      ],
      "metadata": {
        "id": "qv6_JPVI1_8O"
      }
    },
    {
      "cell_type": "markdown",
      "source": [
        "Define uma variável contador com valor inicial 0.\n",
        "\n",
        "    while: Palavra-chave que inicia o loop.\n",
        "\n",
        "    contador < 3: Condição de repetição. O loop continuará executando enquanto contador for menor que 3.\n",
        "\n",
        "        print(contador): Exibe o valor atual do contador.\n",
        "\n",
        "    contador += 1: Incrementa contador em 1 (equivalente a contador = contador + 1)."
      ],
      "metadata": {
        "id": "OSNLGes23HXM"
      }
    },
    {
      "cell_type": "markdown",
      "source": [
        "## 4. Funções (def)\n",
        "\n",
        "Blocos de código reutilizáveis que recebem parâmetros e retornam valores."
      ],
      "metadata": {
        "id": "GIPhCyOrz7O9"
      }
    },
    {
      "cell_type": "code",
      "source": [
        "#Função Básica\n",
        "def saudacao(nome):\n",
        "    return f\"Olá, {nome}\"\n",
        "\n",
        "print(saudacao(\"Nicole\"))"
      ],
      "metadata": {
        "colab": {
          "base_uri": "https://localhost:8080/"
        },
        "id": "FuM9yQXXz9JI",
        "outputId": "3e730603-0bea-4cf1-c87e-cabfd78df4a8"
      },
      "execution_count": null,
      "outputs": [
        {
          "output_type": "stream",
          "name": "stdout",
          "text": [
            "Olá, Nicole\n"
          ]
        }
      ]
    },
    {
      "cell_type": "markdown",
      "source": [
        "    def → Palavra-chave para definir uma função.\n",
        "\n",
        "    saudacao → Nome da função (escolhido pelo programador).\n",
        "\n",
        "    (nome) → Parâmetro da função (variável que recebe o valor passado quando a função é chamada).\n",
        "\n",
        "        return → Indica o valor que a função retorna quando é chamada.\n",
        "\n",
        "    f\"Olá, {nome}\" → f-string (formatação moderna do Python), que insere o valor de nome dentro da string.\n",
        "\n",
        "    saudacao(\"Nicole\") → Chama a função passando \"Nicole\" como argumento."
      ],
      "metadata": {
        "id": "JylvJs1j2iup"
      }
    },
    {
      "cell_type": "markdown",
      "source": [
        "# Agora vamos aprofundar mais?"
      ],
      "metadata": {
        "id": "PH6CK1sc0j3x"
      }
    },
    {
      "cell_type": "markdown",
      "source": [
        "## 1. Estruturas de Dados Avançadas\n",
        "\n",
        "List Comprehension vs. Loops Tradicionais: Explicação para Iniciantes\n",
        "\n",
        "Imagina que você tem uma caixa de brinquedos (uma lista) e quer fazer uma operação com cada brinquedo. Você pode fazer isso de 2 formas:\n",
        "\n",
        "    Método Tradicional (Loop For)\n",
        "    → Pegar um brinquedo de cada vez, fazer a operação e colocar na nova caixa.\n",
        "    → Passo a passo, manualmente.\n",
        "\n",
        "    List Comprehension\n",
        "    → Uma \"mágica\" que transforma toda a caixa de uma vez.\n",
        "    → Mais rápido e elegante."
      ],
      "metadata": {
        "id": "U27hdgpM16eB"
      }
    },
    {
      "cell_type": "markdown",
      "source": [
        "**Exemplo 1: Dobrar Números**\n",
        "\n",
        "Situação: Você tem os números [1, 2, 3] e quer [2, 4, 6]."
      ],
      "metadata": {
        "id": "Zuyork3zO64M"
      }
    },
    {
      "cell_type": "code",
      "source": [
        "numeros = [1,2,3]\n",
        "dobrados = []\n",
        "for num in numeros:\n",
        "  dobrados.append(num * 2)\n",
        "print(dobrados)"
      ],
      "metadata": {
        "colab": {
          "base_uri": "https://localhost:8080/"
        },
        "id": "tb8umCz70NM1",
        "outputId": "1c329d28-333a-4adb-cb46-151b4254862d"
      },
      "execution_count": null,
      "outputs": [
        {
          "output_type": "stream",
          "name": "stdout",
          "text": [
            "[2, 4, 6]\n"
          ]
        }
      ]
    },
    {
      "cell_type": "code",
      "source": [
        "#Versão com List Comprehension (Mágica)\n",
        "numeros =[1,2,3]\n",
        "dobrados = [num * 2 for num in numeros]\n",
        "print(dobrados)"
      ],
      "metadata": {
        "colab": {
          "base_uri": "https://localhost:8080/"
        },
        "id": "9NCceCBE2FvS",
        "outputId": "284279c5-3a5c-4d64-8f81-af5710689b92"
      },
      "execution_count": null,
      "outputs": [
        {
          "output_type": "stream",
          "name": "stdout",
          "text": [
            "[2, 4, 6]\n"
          ]
        }
      ]
    },
    {
      "cell_type": "markdown",
      "source": [
        "**Comparação:**\n",
        "\n",
        "    Loop: 3 linhas (criar lista vazia + loop + append)\n",
        "\n",
        "    List Comprehension: 1 linha só!"
      ],
      "metadata": {
        "id": "FcxPrme3POrH"
      }
    },
    {
      "cell_type": "markdown",
      "source": [
        "**Exemplo 2: Filtrar Frutas**\n",
        "\n",
        "Situação: Você tem [\"maçã\", \"banana\", \"morango\"] e quer só as com \"m\"."
      ],
      "metadata": {
        "id": "E2zQvj8oPTLb"
      }
    },
    {
      "cell_type": "code",
      "source": [
        "#Loop Tradicional\n",
        "frutas = [\"maçã\", \"banana\", \"morango\"]\n",
        "filtradas = []\n",
        "for fruta in frutas:\n",
        "  if fruta.startswith(\"m\"):\n",
        "    filtradas.append(fruta)\n",
        "print(filtradas)"
      ],
      "metadata": {
        "colab": {
          "base_uri": "https://localhost:8080/"
        },
        "id": "lO_p5HLSPb6v",
        "outputId": "755dd5b6-14e5-495d-c56d-582e9106f1ee"
      },
      "execution_count": null,
      "outputs": [
        {
          "output_type": "stream",
          "name": "stdout",
          "text": [
            "['maçã', 'morango']\n"
          ]
        }
      ]
    },
    {
      "cell_type": "code",
      "source": [
        "#List Comprehension\n",
        "frutas = [\"maçã\", \"banana\", \"morango\"]\n",
        "filtradas = [fruta for fruta in frutas if fruta.startswith(\"m\")]\n",
        "print(filtradas)"
      ],
      "metadata": {
        "colab": {
          "base_uri": "https://localhost:8080/"
        },
        "id": "LPCVykLzPlG4",
        "outputId": "6d9da6d4-0d53-4487-ce98-ad1fffafec79"
      },
      "execution_count": null,
      "outputs": [
        {
          "output_type": "stream",
          "name": "stdout",
          "text": [
            "['maçã', 'morango']\n"
          ]
        }
      ]
    },
    {
      "cell_type": "markdown",
      "source": [
        "**Loop Tradicional:** Quando a lógica é complexa (muitos passos), Quando precisa de break ou continue e Melhor para iniciantes entenderem.\n",
        "\n",
        "**List Comprehension:** Para operações simples e transformações rápidas, Quando quer código mais limpo e Pythonico e Mais eficiente em performance para listas grandes."
      ],
      "metadata": {
        "id": "hB0BWa5XPykw"
      }
    },
    {
      "cell_type": "markdown",
      "source": [
        "b) Sets (Conjuntos)\n",
        "\n",
        "Úteis para operações matemáticas e remoção de duplicados."
      ],
      "metadata": {
        "id": "gZxMGZ-W2N7a"
      }
    },
    {
      "cell_type": "code",
      "source": [
        "#Exemplo 3: União e Interseção\n",
        "A = {1,2,3}\n",
        "B = {3,4,5}\n",
        "print(A.union(B))"
      ],
      "metadata": {
        "colab": {
          "base_uri": "https://localhost:8080/"
        },
        "id": "7uDM1aDx2Sm_",
        "outputId": "dedc1f41-5f97-4f7d-8d9d-81bc76871c25"
      },
      "execution_count": null,
      "outputs": [
        {
          "output_type": "stream",
          "name": "stdout",
          "text": [
            "{1, 2, 3, 4, 5}\n"
          ]
        }
      ]
    },
    {
      "cell_type": "code",
      "source": [
        "#Exemplo 4: Remover Duplicados de uma Lista\n",
        "lista = [1,2,3,4,4,4]\n",
        "unicos = list(set(lista))\n",
        "print(unicos)"
      ],
      "metadata": {
        "colab": {
          "base_uri": "https://localhost:8080/"
        },
        "id": "3z1AxXIe2aYB",
        "outputId": "8a8775c3-297a-408a-efae-c80c1b852cab"
      },
      "execution_count": null,
      "outputs": [
        {
          "output_type": "stream",
          "name": "stdout",
          "text": [
            "[1, 2, 3, 4]\n"
          ]
        }
      ]
    },
    {
      "cell_type": "markdown",
      "source": [
        "c) Dicionários Avançados (defaultdict, Counter)"
      ],
      "metadata": {
        "id": "VRPzfvZ53fWY"
      }
    },
    {
      "cell_type": "code",
      "source": [
        "from collections import Counter\n",
        "\n",
        "numeros = [1,2,3,4,4,4]\n",
        "contagem = Counter(numeros)\n",
        "print(contagem)"
      ],
      "metadata": {
        "colab": {
          "base_uri": "https://localhost:8080/"
        },
        "id": "GQVguBhh3GoA",
        "outputId": "d156e2be-c75a-4508-8df6-81e05dafd2b1"
      },
      "execution_count": null,
      "outputs": [
        {
          "output_type": "stream",
          "name": "stdout",
          "text": [
            "Counter({4: 3, 1: 1, 2: 1, 3: 1})\n"
          ]
        }
      ]
    },
    {
      "cell_type": "markdown",
      "source": [
        "**Exercício:**\n",
        "\n",
        "Transforme este loop em List Comprehension:\n",
        "\n",
        "\n",
        "\n",
        "```\n",
        "# Loop original\n",
        "quadrados = []\n",
        "for num in range(1, 6):\n",
        "    quadrados.append(num ** 2)\n",
        "\n",
        "# Sua resposta aqui:\n",
        "quadrados = [num **2 for num in range(1,6)]\n",
        "\n",
        "```\n",
        "\n"
      ],
      "metadata": {
        "id": "3-7eyHhV4Stc"
      }
    },
    {
      "cell_type": "markdown",
      "source": [
        "## 2. Manipulação de Arquivos\n",
        "\n",
        "a) Lendo e Escrevendo Arquivos\n",
        "\n",
        "[Para entender mais sobre](https://www.freecodecamp.org/portuguese/news/como-escrever-em-um-arquivo-em-python-open-read-append-e-outras-funcoes-de-manipulacao-explicadas/)"
      ],
      "metadata": {
        "id": "gmjzhmqb4j8o"
      }
    },
    {
      "cell_type": "code",
      "source": [
        "#Exemplo 7: Arquivo TXT\n",
        "# Escrevendo\n",
        "with open (\"dados.txt\",\"w\") as arquivo:\n",
        "  arquivo.write(\"python\\né incrivel\")\n",
        "\n",
        "# Lendo\n",
        "with open (\"dados.txt\",\"r\") as arquivo:\n",
        "  conteudo = arquivo.read()\n",
        "print(conteudo)"
      ],
      "metadata": {
        "colab": {
          "base_uri": "https://localhost:8080/"
        },
        "id": "0WS-PH6P4oK0",
        "outputId": "0e743b45-0032-46c6-e225-702ff9359cb5"
      },
      "execution_count": null,
      "outputs": [
        {
          "output_type": "stream",
          "name": "stdout",
          "text": [
            "python\n",
            "é incrivel\n"
          ]
        }
      ]
    },
    {
      "cell_type": "markdown",
      "source": [
        "open(\"dados.txt\", \"w\"): Abre o arquivo \"dados.txt\" em modo de escrita (\"w\")\n",
        "\n",
        "    Se o arquivo não existir, será criado\n",
        "\n",
        "    Se já existir, seu conteúdo será sobrescrito"
      ],
      "metadata": {
        "id": "URC-fkKf8Qsm"
      }
    },
    {
      "cell_type": "markdown",
      "source": [
        "with: Garante que o arquivo será fechado automaticamente após o bloco de código\n",
        "\n",
        "arquivo.write(): Escreve a string no arquivo"
      ],
      "metadata": {
        "id": "AEMNj8wr8V5Z"
      }
    },
    {
      "cell_type": "markdown",
      "source": [
        "open(\"dados.txt\", \"r\"): Abre o mesmo arquivo em modo de leitura (\"r\")\n",
        "\n",
        "arquivo.read(): Lê todo o conteúdo do arquivo e armazena na variável conteudo\n",
        "\n",
        "print(conteudo): Exibe o conteúdo lido, que será:"
      ],
      "metadata": {
        "id": "beKuw3q48bqY"
      }
    },
    {
      "cell_type": "markdown",
      "source": [
        "Para você entender mais mais sobre importar com Pandas\n",
        "\n",
        "[Aprofando conhecimento de importação com pandas](https://www.datacamp.com/pt/tutorial/pandas-read-csv)"
      ],
      "metadata": {
        "id": "6AgPjs2YAqf7"
      }
    },
    {
      "cell_type": "code",
      "source": [
        "#Exemplo 8: Arquivo CSV (com Pandas)\n",
        "import pandas as pd\n",
        "# Lendo CSV\n",
        "dados = pd.read_csv(\"dados.csv\")\n",
        "print(dados.head())\n",
        "\n",
        "# Calculando média de uma coluna\n",
        "media = dados[\"idade\"].mean()\n",
        "print(f\"Média de idade:{media}\")"
      ],
      "metadata": {
        "id": "1zffJcMO4zYA",
        "colab": {
          "base_uri": "https://localhost:8080/",
          "height": 615
        },
        "outputId": "ab636bb0-20f2-4f72-be6e-868538ad9e82"
      },
      "execution_count": null,
      "outputs": [
        {
          "output_type": "stream",
          "name": "stdout",
          "text": [
            "   Bruno idade   24\n",
            "0    Ana idade   45\n",
            "1  Daniel idade  37\n"
          ]
        },
        {
          "output_type": "error",
          "ename": "KeyError",
          "evalue": "'idade'",
          "traceback": [
            "\u001b[0;31m---------------------------------------------------------------------------\u001b[0m",
            "\u001b[0;31mKeyError\u001b[0m                                  Traceback (most recent call last)",
            "\u001b[0;32m/usr/local/lib/python3.11/dist-packages/pandas/core/indexes/base.py\u001b[0m in \u001b[0;36mget_loc\u001b[0;34m(self, key)\u001b[0m\n\u001b[1;32m   3804\u001b[0m         \u001b[0;32mtry\u001b[0m\u001b[0;34m:\u001b[0m\u001b[0;34m\u001b[0m\u001b[0;34m\u001b[0m\u001b[0m\n\u001b[0;32m-> 3805\u001b[0;31m             \u001b[0;32mreturn\u001b[0m \u001b[0mself\u001b[0m\u001b[0;34m.\u001b[0m\u001b[0m_engine\u001b[0m\u001b[0;34m.\u001b[0m\u001b[0mget_loc\u001b[0m\u001b[0;34m(\u001b[0m\u001b[0mcasted_key\u001b[0m\u001b[0;34m)\u001b[0m\u001b[0;34m\u001b[0m\u001b[0;34m\u001b[0m\u001b[0m\n\u001b[0m\u001b[1;32m   3806\u001b[0m         \u001b[0;32mexcept\u001b[0m \u001b[0mKeyError\u001b[0m \u001b[0;32mas\u001b[0m \u001b[0merr\u001b[0m\u001b[0;34m:\u001b[0m\u001b[0;34m\u001b[0m\u001b[0;34m\u001b[0m\u001b[0m\n",
            "\u001b[0;32mindex.pyx\u001b[0m in \u001b[0;36mpandas._libs.index.IndexEngine.get_loc\u001b[0;34m()\u001b[0m\n",
            "\u001b[0;32mindex.pyx\u001b[0m in \u001b[0;36mpandas._libs.index.IndexEngine.get_loc\u001b[0;34m()\u001b[0m\n",
            "\u001b[0;32mpandas/_libs/hashtable_class_helper.pxi\u001b[0m in \u001b[0;36mpandas._libs.hashtable.PyObjectHashTable.get_item\u001b[0;34m()\u001b[0m\n",
            "\u001b[0;32mpandas/_libs/hashtable_class_helper.pxi\u001b[0m in \u001b[0;36mpandas._libs.hashtable.PyObjectHashTable.get_item\u001b[0;34m()\u001b[0m\n",
            "\u001b[0;31mKeyError\u001b[0m: 'idade'",
            "\nThe above exception was the direct cause of the following exception:\n",
            "\u001b[0;31mKeyError\u001b[0m                                  Traceback (most recent call last)",
            "\u001b[0;32m<ipython-input-102-4ccec7775243>\u001b[0m in \u001b[0;36m<cell line: 0>\u001b[0;34m()\u001b[0m\n\u001b[1;32m      6\u001b[0m \u001b[0;34m\u001b[0m\u001b[0m\n\u001b[1;32m      7\u001b[0m \u001b[0;31m# Calculando média de uma coluna\u001b[0m\u001b[0;34m\u001b[0m\u001b[0;34m\u001b[0m\u001b[0m\n\u001b[0;32m----> 8\u001b[0;31m \u001b[0mmedia\u001b[0m \u001b[0;34m=\u001b[0m \u001b[0mdados\u001b[0m\u001b[0;34m[\u001b[0m\u001b[0;34m\"idade\"\u001b[0m\u001b[0;34m]\u001b[0m\u001b[0;34m.\u001b[0m\u001b[0mmean\u001b[0m\u001b[0;34m(\u001b[0m\u001b[0;34m)\u001b[0m\u001b[0;34m\u001b[0m\u001b[0;34m\u001b[0m\u001b[0m\n\u001b[0m\u001b[1;32m      9\u001b[0m \u001b[0mprint\u001b[0m\u001b[0;34m(\u001b[0m\u001b[0;34mf\"Média de idade:{media}\"\u001b[0m\u001b[0;34m)\u001b[0m\u001b[0;34m\u001b[0m\u001b[0;34m\u001b[0m\u001b[0m\n",
            "\u001b[0;32m/usr/local/lib/python3.11/dist-packages/pandas/core/frame.py\u001b[0m in \u001b[0;36m__getitem__\u001b[0;34m(self, key)\u001b[0m\n\u001b[1;32m   4100\u001b[0m             \u001b[0;32mif\u001b[0m \u001b[0mself\u001b[0m\u001b[0;34m.\u001b[0m\u001b[0mcolumns\u001b[0m\u001b[0;34m.\u001b[0m\u001b[0mnlevels\u001b[0m \u001b[0;34m>\u001b[0m \u001b[0;36m1\u001b[0m\u001b[0;34m:\u001b[0m\u001b[0;34m\u001b[0m\u001b[0;34m\u001b[0m\u001b[0m\n\u001b[1;32m   4101\u001b[0m                 \u001b[0;32mreturn\u001b[0m \u001b[0mself\u001b[0m\u001b[0;34m.\u001b[0m\u001b[0m_getitem_multilevel\u001b[0m\u001b[0;34m(\u001b[0m\u001b[0mkey\u001b[0m\u001b[0;34m)\u001b[0m\u001b[0;34m\u001b[0m\u001b[0;34m\u001b[0m\u001b[0m\n\u001b[0;32m-> 4102\u001b[0;31m             \u001b[0mindexer\u001b[0m \u001b[0;34m=\u001b[0m \u001b[0mself\u001b[0m\u001b[0;34m.\u001b[0m\u001b[0mcolumns\u001b[0m\u001b[0;34m.\u001b[0m\u001b[0mget_loc\u001b[0m\u001b[0;34m(\u001b[0m\u001b[0mkey\u001b[0m\u001b[0;34m)\u001b[0m\u001b[0;34m\u001b[0m\u001b[0;34m\u001b[0m\u001b[0m\n\u001b[0m\u001b[1;32m   4103\u001b[0m             \u001b[0;32mif\u001b[0m \u001b[0mis_integer\u001b[0m\u001b[0;34m(\u001b[0m\u001b[0mindexer\u001b[0m\u001b[0;34m)\u001b[0m\u001b[0;34m:\u001b[0m\u001b[0;34m\u001b[0m\u001b[0;34m\u001b[0m\u001b[0m\n\u001b[1;32m   4104\u001b[0m                 \u001b[0mindexer\u001b[0m \u001b[0;34m=\u001b[0m \u001b[0;34m[\u001b[0m\u001b[0mindexer\u001b[0m\u001b[0;34m]\u001b[0m\u001b[0;34m\u001b[0m\u001b[0;34m\u001b[0m\u001b[0m\n",
            "\u001b[0;32m/usr/local/lib/python3.11/dist-packages/pandas/core/indexes/base.py\u001b[0m in \u001b[0;36mget_loc\u001b[0;34m(self, key)\u001b[0m\n\u001b[1;32m   3810\u001b[0m             ):\n\u001b[1;32m   3811\u001b[0m                 \u001b[0;32mraise\u001b[0m \u001b[0mInvalidIndexError\u001b[0m\u001b[0;34m(\u001b[0m\u001b[0mkey\u001b[0m\u001b[0;34m)\u001b[0m\u001b[0;34m\u001b[0m\u001b[0;34m\u001b[0m\u001b[0m\n\u001b[0;32m-> 3812\u001b[0;31m             \u001b[0;32mraise\u001b[0m \u001b[0mKeyError\u001b[0m\u001b[0;34m(\u001b[0m\u001b[0mkey\u001b[0m\u001b[0;34m)\u001b[0m \u001b[0;32mfrom\u001b[0m \u001b[0merr\u001b[0m\u001b[0;34m\u001b[0m\u001b[0;34m\u001b[0m\u001b[0m\n\u001b[0m\u001b[1;32m   3813\u001b[0m         \u001b[0;32mexcept\u001b[0m \u001b[0mTypeError\u001b[0m\u001b[0;34m:\u001b[0m\u001b[0;34m\u001b[0m\u001b[0;34m\u001b[0m\u001b[0m\n\u001b[1;32m   3814\u001b[0m             \u001b[0;31m# If we have a listlike key, _check_indexing_error will raise\u001b[0m\u001b[0;34m\u001b[0m\u001b[0;34m\u001b[0m\u001b[0m\n",
            "\u001b[0;31mKeyError\u001b[0m: 'idade'"
          ]
        }
      ]
    },
    {
      "cell_type": "markdown",
      "source": [
        "pd.read_csv(): Função do Pandas para ler arquivos CSV\n",
        "\n",
        "\"dados.csv\": Nome do arquivo a ser lido (deve estar no mesmo diretório do script)"
      ],
      "metadata": {
        "id": "31Dfwco78uO3"
      }
    },
    {
      "cell_type": "markdown",
      "source": [
        "**Exercício:**\n",
        "\n",
        "Crie um arquivo notas.csv com colunas aluno e nota, depois calcule a média das notas."
      ],
      "metadata": {
        "id": "O8QeIgMl53VA"
      }
    },
    {
      "cell_type": "code",
      "source": [
        "import pandas as pd\n",
        "notas = pd. read_csv(\"notas.csv\")\n",
        "print(notas.head())"
      ],
      "metadata": {
        "id": "Q9X4aO6cqIen",
        "colab": {
          "base_uri": "https://localhost:8080/"
        },
        "outputId": "73bc951a-b511-4a40-ca1c-e6b0adac44f4"
      },
      "execution_count": null,
      "outputs": [
        {
          "output_type": "stream",
          "name": "stdout",
          "text": [
            "      Ana   8.5\n",
            "0   Bruno  10.0\n",
            "1  Daniel   9.0\n"
          ]
        }
      ]
    },
    {
      "cell_type": "markdown",
      "source": [
        "##3. Programação Orientada a Objetos (POO)\n",
        "\n",
        "a) Classes e Objetos\n",
        "Pense em classes como receitas de bolo e objetos como os bolos prontos.\n",
        "<br>\n",
        "\n",
        "\n",
        "Parte 1: A Receita (Classe)\n",
        "\n",
        "Uma classe é como um molde que define:\n",
        "\n",
        "    Atributos: \"Ingredientes\" do objeto (ex: cor, tamanho).\n",
        "\n",
        "    Métodos: \"Ações\" que o objeto pode fazer (ex: assar, decorar)."
      ],
      "metadata": {
        "id": "RLLB8P5d6JAR"
      }
    },
    {
      "cell_type": "code",
      "source": [
        "#Exemplo: Classe Bolo\n",
        "class Bolo: #Isso é a receita (classe)\n",
        "    def __init__(self, sabor, cobertura): #Contrutor (prepara o bolo)\n",
        "      self.sabor = sabor #Atributo 1\n",
        "      self.cobertura = cobertura #Atributo 2\n",
        "    def descrever(self): #Método (Ação)\n",
        "      return f\"Bolo de {self.sabor} com {self.cobertura}\""
      ],
      "metadata": {
        "id": "Ykn-8_ma6Hi_"
      },
      "execution_count": null,
      "outputs": []
    },
    {
      "cell_type": "markdown",
      "source": [
        "Explicação:\n",
        "\n",
        "    __init__: Método especial que \"prepara\" o objeto (como misturar os ingredientes).\n",
        "\n",
        "    self.sabor: Cada bolo terá seu próprio sabor (atributo único)."
      ],
      "metadata": {
        "id": "OPHsFI4YR_Ut"
      }
    },
    {
      "cell_type": "markdown",
      "source": [
        "**Parte 2: Os Bolos Prontos (Objetos)**\n",
        "\n",
        "Quando você usa a receita para fazer um bolo, está criando um objeto."
      ],
      "metadata": {
        "id": "3Qr3ifTJSOo9"
      }
    },
    {
      "cell_type": "code",
      "source": [
        "#Exemplo: Criando Objetos\n",
        "bolo1 = Bolo(\"chocolate\", \"granulado\") #Bolo 1(objeto)\n",
        "bolo2 = Bolo(\"morango\", \"chantilly\") #Bolo 2(objeto)\n",
        "\n",
        "print(bolo1.descrever())\n",
        "print(bolo2.descrever())"
      ],
      "metadata": {
        "id": "BP4qWbcTSHjI",
        "colab": {
          "base_uri": "https://localhost:8080/"
        },
        "outputId": "21f83258-c0a7-4470-b223-de5179ee7ede"
      },
      "execution_count": null,
      "outputs": [
        {
          "output_type": "stream",
          "name": "stdout",
          "text": [
            "Bolo de chocolate com granulado\n",
            "Bolo de morango com chantilly\n"
          ]
        }
      ]
    },
    {
      "cell_type": "markdown",
      "source": [
        "**Por que Usar Classes?**\n",
        "\n",
        "    Organização: Agrupa dados (atributos) e ações (métodos) em um único lugar.\n",
        "\n",
        "    Reutilização: Crie vários objetos com a mesma estrutura.\n",
        "\n",
        "    Flexibilidade: Cada objeto pode ter valores diferentes."
      ],
      "metadata": {
        "id": "UKpuvuXZS3Ro"
      }
    },
    {
      "cell_type": "markdown",
      "source": [
        "    Classe = Planta de uma casa (define como será).\n",
        "\n",
        "    Objeto = Casa construída (pode ter várias, cada uma com suas cores e donos)."
      ],
      "metadata": {
        "id": "VEr7JIr6S_un"
      }
    },
    {
      "cell_type": "markdown",
      "source": [
        "**Parte 3: Personalizando Objetos**\n",
        "\n",
        "Você pode modificar atributos depois de criar o objeto:\n",
        "bolo1.cobertura = \"castanhas\"  # Troca a cobertura\n",
        "print(bolo1.descrever())  # Agora: \"Bolo de chocolate com castanhas!\""
      ],
      "metadata": {
        "id": "UP1ATZwYSn6X"
      }
    },
    {
      "cell_type": "code",
      "source": [
        "  # Troca a cobertura\n",
        "  # Agora: \"Bolo de chocolate com castanhas!\"\n",
        "\n",
        "  bolo1.cobertura = \"castanhas\" #trocar a cobertura\n",
        "  print(bolo1.descrever())"
      ],
      "metadata": {
        "id": "bLC8dEHBSnFJ",
        "colab": {
          "base_uri": "https://localhost:8080/"
        },
        "outputId": "a5e04eb4-eeca-43a1-fe50-f56b93d838cb"
      },
      "execution_count": null,
      "outputs": [
        {
          "output_type": "stream",
          "name": "stdout",
          "text": [
            "Bolo de chocolate com castanhas\n"
          ]
        }
      ]
    },
    {
      "cell_type": "markdown",
      "source": [
        "**descrever()** é um método desse objeto que, pelo nome, deve retornar uma descrição do bolo"
      ],
      "metadata": {
        "id": "o5TOLsouuQFh"
      }
    },
    {
      "cell_type": "markdown",
      "source": [
        "## Herança e Polimorfismo: Explicação para Iniciantes\n",
        "\n",
        "Vamos dar exemplo de algo que vocês conhecem que é o zoológico e iremos organizar um de forma digital, já conseguiu visualizar né?\n",
        "\n",
        "1. Herança (Pai e Filho)\n",
        "\n",
        "    O que é?\n",
        "\n",
        "        É como uma herança de família: um filho herda características do pai.\n",
        "\n",
        "        No código: uma classe (filha) pode copiar atributos e métodos de outra classe (pai).\n",
        "\n",
        "    Exemplo Prático:\n",
        "\n",
        "      Todo animal tem um nome e faz um som.\n",
        "\n",
        "      Um cachorro é um animal, então ele herda essas características, mas seu som é diferente (\"Au Au!\")."
      ],
      "metadata": {
        "id": "8w96c14Q78Em"
      }
    },
    {
      "cell_type": "code",
      "source": [
        "#Aqui iremos fazer class com animal\n",
        "class Animal: #classe pai\n",
        "  def __init__(self, nome):\n",
        "    self.nome = nome\n",
        "  def som(self):\n",
        "    return \"...\"\n",
        "class Cachorro(Animal): #classe filha\n",
        "  def som(self):\n",
        "    return \"Au Au\" #som específico\n",
        "\n",
        "rex = Cachorro(\"Rex\")\n",
        "print(rex.nome) #herdado do pai: rex\n",
        "print(rex.som()) #método sobrescrito: \"Au Au\""
      ],
      "metadata": {
        "id": "927VWJrl6Fze",
        "colab": {
          "base_uri": "https://localhost:8080/"
        },
        "outputId": "84a154e7-ace9-4bc8-fde7-af61bf4f234c"
      },
      "execution_count": null,
      "outputs": [
        {
          "output_type": "stream",
          "name": "stdout",
          "text": [
            "Rex\n",
            "Au Au\n"
          ]
        }
      ]
    },
    {
      "cell_type": "markdown",
      "source": [
        "Por que usar?\n",
        "\n",
        "    Para não repetir código (ex: todos os animais têm nome, mas cada um faz um som diferente)."
      ],
      "metadata": {
        "id": "86IEyxyf8ztU"
      }
    },
    {
      "cell_type": "markdown",
      "source": [
        "2. Polimorfismo (Múltiplas Formas)\n",
        "\n",
        "\n",
        "```\n",
        "É a capacidade de um mesmo método se comportar de formas diferentes dependendo do objeto.\n",
        "\n",
        "      Igual ao botão \"ligar\" em aparelhos:\n",
        "\n",
        "      Na TV: liga a tela.\n",
        "\n",
        "      No rádio: liga o som.\n",
        "```\n",
        "\n",
        "\n",
        "\n",
        "    Exemplo Prático:\n",
        "\n",
        "    A função fazer_som() funciona para qualquer animal, mas cada um tem sua própria versão do som."
      ],
      "metadata": {
        "id": "cXDfhdMc82r0"
      }
    },
    {
      "cell_type": "code",
      "source": [
        "#Vamos fazer som dos animais?\n",
        "def fazer_som(animal):\n",
        "  print(animal.som())\n",
        "\n",
        "fazer_som(Cachorro(\"Rex\"))"
      ],
      "metadata": {
        "id": "T9EOjVM345ls",
        "colab": {
          "base_uri": "https://localhost:8080/"
        },
        "outputId": "83acd438-9f93-40f4-b1c0-e5d084af108f"
      },
      "execution_count": null,
      "outputs": [
        {
          "output_type": "stream",
          "name": "stdout",
          "text": [
            "Au Au\n"
          ]
        }
      ]
    },
    {
      "cell_type": "markdown",
      "source": [
        "**Por que usar?**\n",
        "\n",
        "  Para escrever código flexível: a mesma função (fazer_som()) funciona com qualquer animal, sem precisar saber se é um cachorro, gato, etc."
      ],
      "metadata": {
        "id": "zgry4hat-DkW"
      }
    },
    {
      "cell_type": "markdown",
      "source": [
        "Comparação com o Mundo Real\n",
        "\n",
        "\n",
        "1.   **Conceito:** Heranças, Polimorfismo\n",
        "2.   **Exemplo do Mundo Real (Heranças):** Filho herda o sobrenome do pai.\n",
        "3.   **Exemplo do Mundo Real (Polimorfismo):** Botão \"ligar\" funciona em vários aparelhos.\n",
        "\n",
        "\n",
        "Exemplo em Python:\n",
        "\n",
        "```\n",
        "Heranças: Cachorro herda nome de Animal.\n",
        "```\n",
        "\n",
        "```\n",
        "Polimorfismo: fazer_som() funciona com Cachorro, Gato, etc.\n",
        "```\n",
        "\n",
        "\n",
        "\n"
      ],
      "metadata": {
        "id": "C6PWv0de-KzC"
      }
    },
    {
      "cell_type": "markdown",
      "source": [
        "**Exercício para Fixar**\n",
        "\n",
        "Crie uma classe Veiculo com método ligar(), e duas subclasses (Carro e Moto) que sobrescrevem esse método:"
      ],
      "metadata": {
        "id": "4NRwIS1K_qM4"
      }
    },
    {
      "cell_type": "markdown",
      "source": [
        "##NumPy: Arrays e Operações Matemáticas\n",
        "\n",
        "Pense no NumPy como uma super calculadora para lidar com listas de números. Ele é ultra-rápido e faz contas complexas em uma única linha!"
      ],
      "metadata": {
        "id": "ZVpFmAvB3D9c"
      }
    },
    {
      "cell_type": "markdown",
      "source": [
        "**Parte 1: Criando Arrays (Listas Turbinadas)**\n",
        "\n",
        "Array = Lista especial do NumPy que permite cálculos rápidos."
      ],
      "metadata": {
        "id": "Gmm90u9e3NdU"
      }
    },
    {
      "cell_type": "code",
      "source": [
        "#Exemplo 1: Array Básico\n",
        "import numpy as np\n",
        "\n",
        "#Lista comum\n",
        "lista = [1, 2, 3]\n",
        "\n",
        "#Array Numpy\n",
        "arr = np.array([1,2,3])\n",
        "print(arr)"
      ],
      "metadata": {
        "id": "YdgKlRms3Cw3",
        "colab": {
          "base_uri": "https://localhost:8080/"
        },
        "outputId": "3393542b-46e9-4fb6-918c-77751a24129f"
      },
      "execution_count": null,
      "outputs": [
        {
          "output_type": "stream",
          "name": "stdout",
          "text": [
            "[1 2 3]\n"
          ]
        }
      ]
    },
    {
      "cell_type": "markdown",
      "source": [
        "**Um array é uma estrutura de dados que armazena vários valores em uma única variável**"
      ],
      "metadata": {
        "id": "qtRH2d1u3NhU"
      }
    },
    {
      "cell_type": "markdown",
      "source": [
        "**Diferença Chave:**\n",
        "\n",
        "    Listas Python: [1, 2, 3]\n",
        "\n",
        "    Arrays NumPy: [1 2 3] (sem vírgulas, e cálculos instantâneos!)"
      ],
      "metadata": {
        "id": "VAYlKkKO3Zcn"
      }
    },
    {
      "cell_type": "markdown",
      "source": [
        "**Parte 2: Operações Vetorizadas (Sem Loops!)**\n",
        "\n",
        "\"Vetorizado\" = Fazer contas em todos os itens de uma vez (sem for)."
      ],
      "metadata": {
        "id": "_AmE90gb3egt"
      }
    },
    {
      "cell_type": "code",
      "source": [
        "#Exemplo 2: Soma Relâmpago\n",
        "a = np.array([1,2,3])\n",
        "b = np.array([4,5,6])\n",
        "\n",
        "#Soma tradicional(com loop)\n",
        "soma_lenta = [a[i] + b[i] for i in range(3)]\n",
        "\n",
        "#Soma vetorizadas(numpy)\n",
        "soma_rapida = a + b\n",
        "\n",
        "#resultado [5,7,9]"
      ],
      "metadata": {
        "id": "w6fGiprC3bpp"
      },
      "execution_count": null,
      "outputs": []
    },
    {
      "cell_type": "markdown",
      "source": [
        "**range(3)**\n",
        "\n",
        "    Gera os índices 0, 1, 2 (ou seja, assume que as listas a e b têm 3 elementos).\n",
        "\n",
        "**for i in range(3)**\n",
        "\n",
        "    Itera sobre os índices i = 0, 1, 2.\n",
        "\n",
        "**a[i] + b[i]**\n",
        "\n",
        "    Para cada índice i, soma o elemento a[i] com b[i]."
      ],
      "metadata": {
        "id": "lC_3gI1yyxOO"
      }
    },
    {
      "cell_type": "code",
      "source": [
        "#Exemplo 3: Matemática em Massa\n",
        "arr = np.array([1,2,3])\n",
        "\n",
        "print(arr * 2) # multiplica\n",
        "print(arr ** 2) #Elevada ao quadrado: [1 4 9]\n",
        "print(np.sqrt(arr)) #Raiz quadrada [1, 1.414....]"
      ],
      "metadata": {
        "id": "Gy5AAjHL3xVS",
        "colab": {
          "base_uri": "https://localhost:8080/"
        },
        "outputId": "e8eaaf46-4a25-4a1e-b6ee-cff8b30798c2"
      },
      "execution_count": null,
      "outputs": [
        {
          "output_type": "stream",
          "name": "stdout",
          "text": [
            "[2 4 6]\n",
            "[1 4 9]\n",
            "[1.         1.41421356 1.73205081]\n"
          ]
        }
      ]
    },
    {
      "cell_type": "markdown",
      "source": [
        "## Parte 3: Indexação Avançada\n"
      ],
      "metadata": {
        "id": "2cj-F6as3-AD"
      }
    },
    {
      "cell_type": "code",
      "source": [
        "#Exemplo 4: Slicing (Fatiamento)\n",
        "arr = np.array([10, 20, 30, 40, 50])\n",
        "\n",
        "print(arr[1:4])  #Pega do 20 ao 40\n",
        "print(arr[::2]) #Pega de 2 em 2 [10 30 50]"
      ],
      "metadata": {
        "id": "Md_nySv735VB",
        "colab": {
          "base_uri": "https://localhost:8080/"
        },
        "outputId": "7160cc84-43b4-463f-f96f-bbfd3c244fdb"
      },
      "execution_count": null,
      "outputs": [
        {
          "output_type": "stream",
          "name": "stdout",
          "text": [
            "[20 30 40]\n",
            "[10 30 50]\n"
          ]
        }
      ]
    },
    {
      "cell_type": "code",
      "source": [
        "#Exemplo 5: Boolean Masking (Filtro Mágico)\n",
        "arr = np.array([1, 2, 3, 4, 5])\n",
        "\n",
        "#Filtra números maiores que 3\n",
        "mascara = arr > 3\n",
        "print(mascara) #[False False False True True]\n",
        "print(arr[mascara]) #Números pares: [4 5]"
      ],
      "metadata": {
        "id": "NE9DGz0g4MzM",
        "colab": {
          "base_uri": "https://localhost:8080/"
        },
        "outputId": "ae7c2504-8c84-431b-9c98-cb14c838aafb"
      },
      "execution_count": null,
      "outputs": [
        {
          "output_type": "stream",
          "name": "stdout",
          "text": [
            "[False False False  True  True]\n",
            "[4 5]\n"
          ]
        }
      ]
    },
    {
      "cell_type": "markdown",
      "source": [
        "Exercício Prático\n",
        "\n",
        "Problema: Dado o array [5, 10, 15, 20]:\n",
        "\n",
        "    Calcule a média. (Só usar o mean para calcular a média)\n",
        "\n",
        "    Filtre valores maiores que 10."
      ],
      "metadata": {
        "id": "3b3l1zwv4c4W"
      }
    },
    {
      "cell_type": "markdown",
      "source": [
        "#Exercício Geral\n",
        "\n",
        "O exercício que combina todos os conceitos que vimos (variáveis, listas, loops, funções, NumPy, POO e operadores)"
      ],
      "metadata": {
        "id": "EICVOCiTF-4k"
      }
    },
    {
      "cell_type": "markdown",
      "source": [
        "**1. Criar uma Classe Livro**\n",
        "\n",
        "    Atributos: titulo (string), autor (string), disponivel (boolean - inicie como True).\n",
        "\n",
        "    Método: emprestar() que muda disponivel para False."
      ],
      "metadata": {
        "id": "bTSuYRAxGLUh"
      }
    },
    {
      "cell_type": "code",
      "source": [
        "class Livro:\n",
        "    def __init__(self, titulo, autor):\n",
        "      self.titulo = titulo\n",
        "      self.autor = autor\n",
        "      self.disponivel = True\n",
        "\n",
        "    def emprestar(self):\n",
        "      if self.disponivel:\n",
        "        self.disponivel = False\n",
        "        print(f' O livro \"{self.titulo}\" foi emprestado.')\n",
        "\n",
        "      else:\n",
        "            print(f'O livro \"{self.titulo}\" não foi emprestado.')\n",
        "\n",
        "\n",
        "\n"
      ],
      "metadata": {
        "id": "gMlhy7C7G8TA"
      },
      "execution_count": null,
      "outputs": []
    },
    {
      "cell_type": "markdown",
      "source": [
        "**2. Lista de Livros e Operações**\n",
        "\n",
        "    Crie uma lista biblioteca com 3 livros (ex: \"Dom Casmurro\", \"1984\", \"O Pequeno Príncipe\").\n",
        "\n",
        "    Use um loop para emprestar um livro e imprimir seu status."
      ],
      "metadata": {
        "id": "CTHBZWneGRFu"
      }
    },
    {
      "cell_type": "code",
      "source": [
        "biblioteca = [\n",
        "    Livro(\"Cuidar uns dos Outros\",\"Minouche Shafik\"),\n",
        "    Livro(\"Dom Casmurro\", \"Machado de Assis\"),\n",
        "    Livro(\"O Pequeno Príncipe\", \"Antoine de Saint-Exupéry\")\n",
        "]\n",
        "\n",
        "for livro in biblioteca:\n",
        "    livro.emprestar()\n",
        "    print(f'Status do livro \"{livro.titulo}\": {\"Disponível\" if livro.disponivel else \"Indisponível\"}\\n')"
      ],
      "metadata": {
        "id": "k228LPYqG3h2",
        "colab": {
          "base_uri": "https://localhost:8080/"
        },
        "outputId": "85c9a428-36b0-4a78-8b6d-8ce2f1674fe8"
      },
      "execution_count": null,
      "outputs": [
        {
          "output_type": "stream",
          "name": "stdout",
          "text": [
            " O livro \"Cuidar uns dos Outros\" foi emprestado.\n",
            "Status do livro \"Cuidar uns dos Outros\": Indisponível\n",
            "\n",
            " O livro \"Dom Casmurro\" foi emprestado.\n",
            "Status do livro \"Dom Casmurro\": Indisponível\n",
            "\n",
            " O livro \"O Pequeno Príncipe\" foi emprestado.\n",
            "Status do livro \"O Pequeno Príncipe\": Indisponível\n",
            "\n"
          ]
        }
      ]
    },
    {
      "cell_type": "markdown",
      "source": [
        "**3. Filtro com Boolean Masking**\n",
        "\n",
        "    Crie um array com páginas fictícias (ex: [200, 328, 96]).\n",
        "\n",
        "    Filtre livros com mais de 100 páginas."
      ],
      "metadata": {
        "id": "2lT4UGlcGWTa"
      }
    },
    {
      "cell_type": "code",
      "source": [
        "paginas = [400,564,987]\n",
        "\n",
        "livros_com_mais_de_100 = [p for p in paginas if p > 100]\n",
        "\n",
        "print(\"Livros com mais de 100 páginas:\", livros_com_mais_de_100)"
      ],
      "metadata": {
        "id": "7cgAepvqG2ja",
        "colab": {
          "base_uri": "https://localhost:8080/"
        },
        "outputId": "ea5bfbd8-0814-491f-e550-cf6ffab84e04"
      },
      "execution_count": null,
      "outputs": [
        {
          "output_type": "stream",
          "name": "stdout",
          "text": [
            "Livros com mais de 100 páginas: [400, 564, 987]\n"
          ]
        }
      ]
    },
    {
      "cell_type": "markdown",
      "source": [
        "**4. Função com NumPy**\n",
        "\n",
        "    Crie um array NumPy com os anos de publicação fictícios (ex: [1899, 1949, 1943]).\n",
        "\n",
        "    Calcule a média dos anos."
      ],
      "metadata": {
        "id": "F24A_oOIGgbS"
      }
    },
    {
      "cell_type": "code",
      "source": [
        "import numpy as np\n",
        "\n",
        "anos_publicacao = np.array([1888, 1955, 2024, 2011, 1967])\n",
        "\n",
        "media_anos = np.mean(anos_publicacao)\n",
        "\n",
        "print(f\"Média dos anos de publicação: {media_anos}\")"
      ],
      "metadata": {
        "id": "TcBwd2FWG278",
        "colab": {
          "base_uri": "https://localhost:8080/"
        },
        "outputId": "7ec946ce-5438-4fdc-c985-0652792889b9"
      },
      "execution_count": null,
      "outputs": [
        {
          "output_type": "stream",
          "name": "stdout",
          "text": [
            "Média dos anos de publicação: 1969.0\n"
          ]
        }
      ]
    },
    {
      "cell_type": "markdown",
      "source": [
        "🔹 Passo 1: Conecte seu Colab ao GitHub\n",
        "\n",
        "Antes de enviar, você precisa vincular seu Colab ao GitHub.\n",
        "\n",
        "  Abra seu notebook no Google Colab\n",
        "\n",
        "      Certifique-se de que seu código está salvo (Ctrl + S ou File > Save).\n",
        "\n",
        "       em File > Save a copy in GitHub\n",
        "\n",
        "  Se você não estiver logado, o Google pedirá permissão para acessar sua conta do GitHub.\n",
        "\n",
        "🔹 Passo 2: Configurar o Repositório\n",
        "\n",
        "Ao clicar em Save a copy in GitHub, uma janela aparecerá:\n",
        "\n",
        "✅ Se já tem um repositório criado:\n",
        "\n",
        "    Selecione seu GitHub username.\n",
        "\n",
        "    Escolha o repositório onde quer salvar.\n",
        "\n",
        "    Defina o branch (geralmente main).\n",
        "\n",
        "    Adicione uma mensagem de commit (ex: \"Primeiro upload do Colab\").\n",
        "\n",
        "✅ Se NÃO tem um repositório:\n",
        "\n",
        "    Marque a opção \"Create a new repository\".\n",
        "\n",
        "    Digite um nome para o repositório (ex: meu-projeto-colab).\n",
        "\n",
        "    Escolha se será público ou privado.\n",
        "\n",
        "    Adicione uma descrição (opcional).\n",
        "\n",
        "🔹 Passo 3: Confirmar e Enviar\n",
        "\n",
        "Depois de configurar:\n",
        "\n",
        "    Clique em OK.\n",
        "\n",
        "    O Colab vai:\n",
        "\n",
        "        Criar um novo repositório (se necessário).\n",
        "\n",
        "        Fazer o commit e push automaticamente.\n",
        "\n",
        "    Pronto! Seu código estará no GitHub.\n",
        "\n",
        "🔹 Verificando no GitHub\n",
        "\n",
        "    Acesse seu GitHub: https://github.com\n",
        "\n",
        "    Vá até o repositório que você escolheu.\n",
        "\n",
        "    Seu notebook .ipynb estará lá! 🎉\n",
        "\n",
        "🔹 Dicas Importantes\n",
        "\n",
        "✔ Se der erro de autenticação:\n",
        "\n",
        "    Verifique se você autorizou o Colab a acessar o GitHub.\n",
        "\n",
        "    Se necessário, vá em GitHub Settings > Applications e dê permissão.\n",
        "\n",
        "✔ Quer atualizar um arquivo existente?\n",
        "\n",
        "    Basta repetir o processo (File > Save a copy in GitHub).\n",
        "\n",
        "✔ Quer enviar outros arquivos (dados, imagens)?\n",
        "\n",
        "    Use o Google Drive ou faça upload manual no GitHub.\n",
        "\n"
      ],
      "metadata": {
        "id": "dL0uyDQF5nSD"
      }
    }
  ]
}